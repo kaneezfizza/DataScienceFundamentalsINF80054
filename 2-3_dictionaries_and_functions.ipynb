{
 "cells": [
  {
   "cell_type": "markdown",
   "metadata": {},
   "source": [
    "# Dictionaries and Functions\n",
    "\n",
    "## Dictionaries\n",
    "\n",
    "Dictionaries (or \"dicts\") are collections of item pairs, similar to a list of tuple pairs. You can think of a ``dict`` object as being conceptually similar to a physical dictionary: i.e. we can look up the definition of a word in a dictionary very quickly because the words are ordered in alphabetical order (a form of indexing). In a ``dict`` object, instead of words and their associated definitions, we have ``keys`` and their associated ``values``.\n",
    "\n",
    "To define a ``dict`` object, we use the following syntax:\n",
    "\n",
    "``dict_name = {key1: val1, key2: val2}``\n",
    "\n",
    "For example:"
   ]
  },
  {
   "cell_type": "code",
   "execution_count": 4,
   "metadata": {},
   "outputs": [
    {
     "name": "stdout",
     "output_type": "stream",
     "text": [
      "{'hangry': 'bad-tempered or irritable as a result of hunger.', 'LOL': 'To laugh out loud; to be amused.'}\n"
     ]
    }
   ],
   "source": [
    "d = {\n",
    "    'hangry': 'bad-tempered or irritable as a result of hunger.',\n",
    "    'LOL': 'To laugh out loud; to be amused.'\n",
    "}\n",
    "print(d)"
   ]
  },
  {
   "cell_type": "markdown",
   "metadata": {},
   "source": [
    "We can then use an item ``key`` to obtain its associated value:"
   ]
  },
  {
   "cell_type": "code",
   "execution_count": 5,
   "metadata": {},
   "outputs": [
    {
     "data": {
      "text/plain": [
       "'To laugh out loud; to be amused.'"
      ]
     },
     "execution_count": 5,
     "metadata": {},
     "output_type": "execute_result"
    }
   ],
   "source": [
    "d['LOL']"
   ]
  },
  {
   "cell_type": "markdown",
   "metadata": {},
   "source": [
    "And we can add another item to the dictionary using the following syntax:"
   ]
  },
  {
   "cell_type": "code",
   "execution_count": 6,
   "metadata": {},
   "outputs": [
    {
     "data": {
      "text/plain": [
       "{'hangry': 'bad-tempered or irritable as a result of hunger.',\n",
       " 'LOL': 'To laugh out loud; to be amused.',\n",
       " 'selfie': 'a photograph that one has taken of oneself, typically one taken with a smartphone or webcam and shared via social media.',\n",
       " 7: 3.2345,\n",
       " 'pi': 3.14}"
      ]
     },
     "execution_count": 6,
     "metadata": {},
     "output_type": "execute_result"
    }
   ],
   "source": [
    "d['selfie'] = 'a photograph that one has taken of oneself, typically one taken with a smartphone or webcam and shared via social media.'\n",
    "d[7] = 3.2345\n",
    "d['pi'] = 3.14\n",
    "d"
   ]
  },
  {
   "cell_type": "markdown",
   "metadata": {},
   "source": [
    "Now add a new key-value pair of your own:"
   ]
  },
  {
   "cell_type": "code",
   "execution_count": 9,
   "metadata": {},
   "outputs": [
    {
     "data": {
      "text/plain": [
       "{'hangry': 'bad-tempered or irritable as a result of hunger.',\n",
       " 'LOL': 'To laugh out loud; to be amused.',\n",
       " 'selfie': 'a photograph that one has taken of oneself, typically one taken with a smartphone or webcam and shared via social media.',\n",
       " 7: 3.2345,\n",
       " 'pi': 3.14,\n",
       " 'my_name': 'kaneez fizza'}"
      ]
     },
     "execution_count": 9,
     "metadata": {},
     "output_type": "execute_result"
    }
   ],
   "source": [
    "d['my_name']= 'kaneez fizza'\n",
    "d"
   ]
  },
  {
   "cell_type": "code",
   "execution_count": 9,
   "metadata": {},
   "outputs": [
    {
     "name": "stdout",
     "output_type": "stream",
     "text": [
      "{'hangry': 'bad-tempered or irritable as a result of hunger.', 'LOL': 'To laugh out loud; to be amused.', 'selfie': 'a photograph that one has taken of oneself, typically one taken with a smartphone or webcam and shared via social media.', 7: 3.2345, 'pi': 3.14, 'learn': 'python dictionary'}\n"
     ]
    }
   ],
   "source": [
    "d['learn'] = 'python dictionary'\n",
    "print(d)"
   ]
  },
  {
   "cell_type": "markdown",
   "metadata": {},
   "source": [
    "One of the benefits of a dictionary is that the item look-up time is very fast. If you have to search for an item in a list or tuple with millions of items, it can take a long time, but searching for an item in a dictionary containing millions of items returns a result almost instantaneously."
   ]
  },
  {
   "cell_type": "markdown",
   "metadata": {},
   "source": [
    "## Creating and using functions\n",
    "\n",
    "Functions are encapsulated segments of code that perform a set of pre-specified actions. You can use the same function again and again in many different situations. For example, one function you have been using already is the ``print()`` function, which takes a string as input and then outputs that string to the screen.\n",
    "\n",
    "A function can take one or more values as input and return one or more values as output. A function is defined with the following syntax (don't worry about the errors in the below code block):"
   ]
  },
  {
   "cell_type": "code",
   "execution_count": null,
   "metadata": {},
   "outputs": [],
   "source": [
    "def function_name(argument1, argument2, ......):\n",
    "    \n",
    "    <code_that_performs_specific_function>\n",
    "    \n",
    "    return <values_to_return>"
   ]
  },
  {
   "cell_type": "markdown",
   "metadata": {},
   "source": [
    "Let's define a new function that takes two numbers as input arguments. The function will calculate the square of each of those numbers, add the squares together, and return the resulting \"sum of squares\" value:"
   ]
  },
  {
   "cell_type": "code",
   "execution_count": 10,
   "metadata": {},
   "outputs": [],
   "source": [
    "def sum_of_squares(x, y):\n",
    "    result = x**2 + y**2\n",
    "    return result"
   ]
  },
  {
   "cell_type": "markdown",
   "metadata": {},
   "source": [
    "We can then call that function, passing two numbers as input:"
   ]
  },
  {
   "cell_type": "code",
   "execution_count": 13,
   "metadata": {},
   "outputs": [
    {
     "data": {
      "text/plain": [
       "29"
      ]
     },
     "execution_count": 13,
     "metadata": {},
     "output_type": "execute_result"
    }
   ],
   "source": [
    "sum_of_squares(2, 5)"
   ]
  },
  {
   "cell_type": "markdown",
   "metadata": {},
   "source": [
    "We can also use the output of one function within another function, or use the output of one function as the input to another function:"
   ]
  },
  {
   "cell_type": "code",
   "execution_count": 15,
   "metadata": {},
   "outputs": [
    {
     "name": "stdout",
     "output_type": "stream",
     "text": [
      "5.385164807134504\n"
     ]
    }
   ],
   "source": [
    "def hypotenuse_length(x, y):\n",
    "    # Use Pythoagoras' theorem (c^2 = a^2 + b^2) to calculate the length of the hypotenuse of a right-angle triangle\n",
    "    \n",
    "    result = sum_of_squares(x, y)**0.5  # Use the output of the sum_of_squares() function within the hypotenuse_length() function\n",
    "    \n",
    "    return result\n",
    "\n",
    "\n",
    "print(hypotenuse_length(2,5))  # Use the output of the hypotenuse_length() function as the input to the print() function"
   ]
  },
  {
   "cell_type": "markdown",
   "metadata": {},
   "source": [
    "Note that we can also specify default values for each input argument. Python will use the default value if an argument is not specified during the function call.\n",
    "\n",
    "Arguments that do not have default values are called positional arguments -- they must all be specified every time you call the function, and make sure you specify them in the correct order!\n",
    "\n",
    "Note that you can use default argument values to change the behaviour of your function"
   ]
  },
  {
   "cell_type": "code",
   "execution_count": 16,
   "metadata": {},
   "outputs": [
    {
     "name": "stdout",
     "output_type": "stream",
     "text": [
      "2.8284271247461903\n",
      "2.8284271247461903\n",
      "2.23606797749979\n"
     ]
    }
   ],
   "source": [
    "def hypotenuse_length(x, y=None):\n",
    "    # Use Pythoagoras' theorem (c^2 = a^2 + b^2) to calculate the length of the hypotenuse of a right-angle triangle\n",
    "    \n",
    "    # If the \"y\" argument is not passed, assume that y = x\n",
    "    if y is None:\n",
    "        y = x\n",
    "    \n",
    "    result = sum_of_squares(x, y)**0.5  # Use the output of the sum_of_squares() function within the hypotenuse_length() function\n",
    "    \n",
    "    return result\n",
    "\n",
    "\n",
    "print(hypotenuse_length(2))\n",
    "print(hypotenuse_length(2, 2))\n",
    "print(hypotenuse_length(2, 1))"
   ]
  },
  {
   "cell_type": "markdown",
   "metadata": {},
   "source": [
    "Default argument are always placed at the end of the collection of arguments in the function definition. When we call a function with multiple default arguments, the default arguments can be specified in any order:"
   ]
  },
  {
   "cell_type": "code",
   "execution_count": 17,
   "metadata": {},
   "outputs": [],
   "source": [
    "def hypotenuse_length(x, y=None, print_result=False):\n",
    "    # Use Pythoagoras' theorem (c^2 = a^2 + b^2) to calculate the length of the hypotenuse of a right-angle triangle\n",
    "    \n",
    "    # If the \"y\" argument is not passed, assume that y = x\n",
    "    if y is None:\n",
    "        y = x\n",
    "    \n",
    "    result = sum_of_squares(x, y)**0.5  # Use the output of the sum_of_squares() function within the hypotenuse_length() function\n",
    "    \n",
    "    if print_result is True:\n",
    "        print('hypotenuse =', result)\n",
    "    \n",
    "    return result"
   ]
  },
  {
   "cell_type": "markdown",
   "metadata": {},
   "source": [
    "See if you can predict what each of the following lines will do before you run each cell:"
   ]
  },
  {
   "cell_type": "code",
   "execution_count": 18,
   "metadata": {},
   "outputs": [
    {
     "name": "stdout",
     "output_type": "stream",
     "text": [
      "hypotenuse = 2.8284271247461903\n"
     ]
    },
    {
     "data": {
      "text/plain": [
       "2.8284271247461903"
      ]
     },
     "execution_count": 18,
     "metadata": {},
     "output_type": "execute_result"
    }
   ],
   "source": [
    "hypotenuse_length(2, print_result=True)"
   ]
  },
  {
   "cell_type": "code",
   "execution_count": 19,
   "metadata": {},
   "outputs": [
    {
     "name": "stdout",
     "output_type": "stream",
     "text": [
      "hypotenuse = 7.280109889280518\n"
     ]
    },
    {
     "data": {
      "text/plain": [
       "7.280109889280518"
      ]
     },
     "execution_count": 19,
     "metadata": {},
     "output_type": "execute_result"
    }
   ],
   "source": [
    "hypotenuse_length(2, print_result=True, y=7)"
   ]
  },
  {
   "cell_type": "code",
   "execution_count": 20,
   "metadata": {},
   "outputs": [
    {
     "data": {
      "text/plain": [
       "2.23606797749979"
      ]
     },
     "execution_count": 20,
     "metadata": {},
     "output_type": "execute_result"
    }
   ],
   "source": [
    "hypotenuse_length(2, True, 7)"
   ]
  },
  {
   "cell_type": "code",
   "execution_count": 21,
   "metadata": {},
   "outputs": [
    {
     "data": {
      "text/plain": [
       "100.0199980003999"
      ]
     },
     "execution_count": 21,
     "metadata": {},
     "output_type": "execute_result"
    }
   ],
   "source": [
    "hypotenuse_length(2, 100)"
   ]
  },
  {
   "cell_type": "code",
   "execution_count": 22,
   "metadata": {},
   "outputs": [
    {
     "name": "stdout",
     "output_type": "stream",
     "text": [
      "hypotenuse = 30.066592756745816\n"
     ]
    },
    {
     "data": {
      "text/plain": [
       "30.066592756745816"
      ]
     },
     "execution_count": 22,
     "metadata": {},
     "output_type": "execute_result"
    }
   ],
   "source": [
    "hypotenuse_length(2, 30, True)"
   ]
  },
  {
   "cell_type": "markdown",
   "metadata": {},
   "source": [
    "Often when I am writing code for a project I will try to break code up into many different functions, rather than have large, monolithic slabs of code. Ideally, each function you write should encapsulate a single, simple idea."
   ]
  },
  {
   "cell_type": "markdown",
   "metadata": {},
   "source": [
    "## Lambda Functions\n",
    "\n",
    "In cases where you need to define a very small function, it may be better to instead use a lambda function, which can have cleaner syntax than separately defining a small function. The lambda function syntax is:\n",
    "\n",
    "``lambda x: <some_calculations_using_x>``\n",
    "\n",
    "Here is an example to show you what a lambda function does:"
   ]
  },
  {
   "cell_type": "code",
   "execution_count": 23,
   "metadata": {},
   "outputs": [
    {
     "data": {
      "text/plain": [
       "12.75"
      ]
     },
     "execution_count": 23,
     "metadata": {},
     "output_type": "execute_result"
    }
   ],
   "source": [
    "func = lambda x, y: x*y + x/y\n",
    "\n",
    "func(3,4)"
   ]
  },
  {
   "cell_type": "markdown",
   "metadata": {},
   "source": [
    "The above lambda function is equivalent to:"
   ]
  },
  {
   "cell_type": "code",
   "execution_count": 24,
   "metadata": {},
   "outputs": [
    {
     "data": {
      "text/plain": [
       "12.75"
      ]
     },
     "execution_count": 24,
     "metadata": {},
     "output_type": "execute_result"
    }
   ],
   "source": [
    "def func(x, y):\n",
    "    return x*y + x/y\n",
    "\n",
    "func(3,4)"
   ]
  },
  {
   "cell_type": "markdown",
   "metadata": {},
   "source": [
    "## Exercise 5\n",
    "\n",
    "(a) In the cell below, create a new ``sum_of_squares`` function that:\n",
    "\n",
    "1. takes a list as input,\n",
    "2. calculates the square of each of the numbers in the list,\n",
    "3. adds those numbers together:"
   ]
  },
  {
   "cell_type": "code",
   "execution_count": 34,
   "metadata": {},
   "outputs": [
    {
     "name": "stdout",
     "output_type": "stream",
     "text": [
      "223\n"
     ]
    }
   ],
   "source": [
    "def sum_of_squares(l):\n",
    "    result=sum([x**2 for x in l])\n",
    "    return result\n",
    "    \n",
    "list_of_numbers = [2, 5, 7, 8, 9]\n",
    "\n",
    "result = sum_of_squares(list_of_numbers)\n",
    "print(result)"
   ]
  },
  {
   "cell_type": "markdown",
   "metadata": {},
   "source": [
    "(b) Create a function that:\n",
    "\n",
    "1. takes a list as input,\n",
    "2. prints the list to screen if an associated input argument is ``True`` (but assign the argument a default value of ``False``),\n",
    "3. uses your ``sum_of_squares()`` function to calculate the sum of squares of the items in the list, and saves the resulting value to a new variable called ``result``,\n",
    "4. prints the value of the ``result`` variable.\n",
    "\n",
    "then run the function:"
   ]
  },
  {
   "cell_type": "code",
   "execution_count": 38,
   "metadata": {},
   "outputs": [
    {
     "data": {
      "text/plain": [
       "569"
      ]
     },
     "execution_count": 38,
     "metadata": {},
     "output_type": "execute_result"
    }
   ],
   "source": [
    "def my_fun(l, print_result=False):\n",
    "    if print_result is True:\n",
    "        print(l)\n",
    "    result= sum_of_squares(l) \n",
    "    return result\n",
    "list_of_numbers = [2, 5, 7, 8, 9, 11, 15, ]\n",
    "\n",
    "# Now run your function\n",
    "my_fun(list_of_numbers)"
   ]
  },
  {
   "cell_type": "markdown",
   "metadata": {},
   "source": [
    "## Exercise 6: Keeping functions flexible and generalisable\n",
    "\n",
    "Rather than write functions that apply to very specific cases, it is better to write functions that are flexible and generalisable, so that they can be used in as many different situations as possible.\n",
    "\n",
    "For example, the following function is very specific. It calculates yearly energy usage of a house, based on the power consumption of a few different input appliances:"
   ]
  },
  {
   "cell_type": "code",
   "execution_count": 64,
   "metadata": {},
   "outputs": [
    {
     "name": "stdout",
     "output_type": "stream",
     "text": [
      "3226.6 kWh\n",
      "2934.6 kWh\n"
     ]
    },
    {
     "data": {
      "text/plain": [
       "2934.6"
      ]
     },
     "execution_count": 64,
     "metadata": {},
     "output_type": "execute_result"
    }
   ],
   "source": [
    "def yearly_energy_usage(tv, fridge, heating, cooling):\n",
    "    # Hours used per day for different appliances\n",
    "    tv_hours = 2\n",
    "    fridge_hours = 24\n",
    "    heating_hours = 2\n",
    "    cooling_hours = 1\n",
    "    \n",
    "    # Calculate average daily energy use in Wh\n",
    "    E_Wh_perday = tv*tv_hours + \\\n",
    "                  fridge*fridge_hours + \\\n",
    "                  heating*heating_hours + \\\n",
    "                  cooling*cooling_hours\n",
    "    \n",
    "    # Convert from Wh to kWh\n",
    "    E_kWh_perday = E_Wh_perday / 1000\n",
    "    \n",
    "    # Calculate average yearly energy use in kW\n",
    "    E_kWh_peryear = E_kWh_perday * 365\n",
    "    print(E_kWh_peryear, 'kWh')\n",
    "    \n",
    "    return E_kWh_peryear\n",
    "\n",
    "\n",
    "yearly_energy_usage(120, 150, 1500, 2000)\n",
    "yearly_energy_usage(120, 200, 1500, 0)"
   ]
  },
  {
   "cell_type": "markdown",
   "metadata": {},
   "source": [
    "This function is quite specific, and has the following problems:\n",
    "\n",
    "- if we want to change the hours used per day for different appliances, we have to change them in the function definition. Also, we would not be able to re-use the function if we wanted to call it with multiple different daily usages. Instead, it is better to pass those values as inputs when we call the function.\n",
    "- power consumption for each appliance is passed in a separate input argument. It would be better to pass some sort of iterable collection of appliance power consumption data.\n",
    "- the energy calculation is calculated over a one year duration. If we want to calculate the energy use over a different duration, say 1 month or 1 week, we have to change the function definition. It would be preferable to simply change a variable passed to the function call. Also, we would not be able to re-use the function if we wanted to call it with multiple different durations.\n",
    "\n",
    "Now use the cell below (which is a copy of the above cell) to modify the function so that it takes two input arguments:\n",
    "\n",
    "- ``appliances``: a dict containing three key-value pairs:\n",
    "    - ``\"name\"``: value is a list of appliance names,\n",
    "    - ``\"power\"``: value is a list of each appliance's power consumption, in Watts (W),\n",
    "    - ``\"daily_usage\"``: value is a list of each appliance's average daily usage time, in hours,\n",
    "- ``duration``: the length of time over which to make the energy calculation, in days.\n",
    "\n",
    "and change the function's name to ``energy_usage()``:"
   ]
  },
  {
   "cell_type": "code",
   "execution_count": 53,
   "metadata": {},
   "outputs": [],
   "source": [
    "def yearly_energy_usage(appliances, duration):\n",
    "   # Calculate average daily energy use in Wh\n",
    "    E_Wh_perday = sum([P*t for P, t in zip(appliances['power'], appliances['daily_usage'])])\n",
    "    \n",
    "    # Convert from Wh to kWh\n",
    "    E_kWh_perday = E_Wh_perday / 1000\n",
    "    \n",
    "    # Calculate average yearly energy use in kW\n",
    "    E_kWh_peryear = E_kWh_perday * duration\n",
    "    print(E_kWh_peryear, 'kWh')\n",
    "    return E_kWh_peryear"
   ]
  },
  {
   "cell_type": "code",
   "execution_count": 62,
   "metadata": {},
   "outputs": [
    {
     "name": "stdout",
     "output_type": "stream",
     "text": [
      "340.2 kWh\n"
     ]
    },
    {
     "data": {
      "text/plain": [
       "340.2"
      ]
     },
     "execution_count": 62,
     "metadata": {},
     "output_type": "execute_result"
    }
   ],
   "source": [
    "appliances = {\n",
    "      'name' : ['tv, fridge, heating, cooling', 'lighting'],\n",
    "      'power' : [120, 150, 1500, 2000, 500],\n",
    "      'daily_usage': [2, 24, 2, 1, 5]\n",
    "         \n",
    "    }\n",
    "#appliances['daily_usage'] = [1, 2, 15, 1, 5]   \n",
    "yearly_energy_usage(appliances, 30)"
   ]
  },
  {
   "cell_type": "code",
   "execution_count": 63,
   "metadata": {},
   "outputs": [
    {
     "name": "stdout",
     "output_type": "stream",
     "text": [
      "[120, 150, 1500, 2000, 500]\n",
      "[2, 24, 2, 1, 5]\n"
     ]
    }
   ],
   "source": [
    "print(appliances['power'])\n",
    "print(appliances['daily_usage'])"
   ]
  },
  {
   "cell_type": "markdown",
   "metadata": {},
   "source": [
    "Now edit the cell above to:\n",
    "\n",
    "- calculate the energy usage over the course of 1 month (30 days),\n",
    "- add another appliance -- ``lighting`` -- which uses an average of 500W for 5h a day.\n",
    "\n",
    "Note that if we had tried to make these changes before making the function more general, the edits would have been messier and taken longer to code -- i.e. consider how you would have implemented the above changes in the ``yearly_energy_usage()`` function (i.e. the earlier, less generalisable version of the function)."
   ]
  }
 ],
 "metadata": {
  "kernelspec": {
   "display_name": "Python 3",
   "language": "python",
   "name": "python3"
  },
  "language_info": {
   "codemirror_mode": {
    "name": "ipython",
    "version": 3
   },
   "file_extension": ".py",
   "mimetype": "text/x-python",
   "name": "python",
   "nbconvert_exporter": "python",
   "pygments_lexer": "ipython3",
   "version": "3.8.5"
  }
 },
 "nbformat": 4,
 "nbformat_minor": 4
}
