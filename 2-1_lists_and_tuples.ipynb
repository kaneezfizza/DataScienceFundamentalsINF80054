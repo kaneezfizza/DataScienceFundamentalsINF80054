{
 "cells": [
  {
   "cell_type": "markdown",
   "metadata": {},
   "source": [
    "# Lists and Tuples\n",
    "\n",
    "## Lists\n",
    "\n",
    "A list in Python is simply a collection of items. The items can have different data types; strings, ints, floats, etc... The mathematicians among you may prefer to think of a List as a vector or an array of values."
   ]
  },
  {
   "cell_type": "code",
   "execution_count": 24,
   "metadata": {},
   "outputs": [],
   "source": [
    "my_first_list = [4, 5, 6, 'H', 8.5]"
   ]
  },
  {
   "cell_type": "markdown",
   "metadata": {},
   "source": [
    "Now print the value of ``my_first_list`` using the cell below, and print that variable's data type as well:"
   ]
  },
  {
   "cell_type": "code",
   "execution_count": 13,
   "metadata": {},
   "outputs": [
    {
     "name": "stdout",
     "output_type": "stream",
     "text": [
      "[4, 5, 6, 'H', 8.5]\n",
      "<class 'list'>\n"
     ]
    }
   ],
   "source": [
    "print(my_first_list)\n",
    "print(type(my_first_list))"
   ]
  },
  {
   "cell_type": "markdown",
   "metadata": {},
   "source": [
    "There are a few different ways to append a value to a list -- the following are all equivalent:"
   ]
  },
  {
   "cell_type": "code",
   "execution_count": 25,
   "metadata": {},
   "outputs": [
    {
     "name": "stdout",
     "output_type": "stream",
     "text": [
      "[4, 5, 6, 'H', 8.5, 3]\n",
      "[4, 5, 6, 'H', 8.5, 3, 3]\n",
      "[4, 5, 6, 'H', 8.5, 3, 3, 3]\n"
     ]
    }
   ],
   "source": [
    "my_first_list = my_first_list + [3]\n",
    "print(my_first_list)\n",
    "\n",
    "my_first_list += [3]\n",
    "print(my_first_list)\n",
    "\n",
    "my_first_list.append(3)\n",
    "print(my_first_list)"
   ]
  },
  {
   "cell_type": "markdown",
   "metadata": {},
   "source": [
    "We can also append many values to a list by concatenating it with another list of values:"
   ]
  },
  {
   "cell_type": "code",
   "execution_count": 31,
   "metadata": {},
   "outputs": [
    {
     "name": "stdout",
     "output_type": "stream",
     "text": [
      "[4, 5, 6, 'H', 8.5, 3, 3, 3, 1, 'item', True]\n"
     ]
    }
   ],
   "source": [
    "my_first_list = my_first_list + [1, 'item', True]\n",
    "print(my_first_list)"
   ]
  },
  {
   "cell_type": "code",
   "execution_count": 68,
   "metadata": {},
   "outputs": [
    {
     "name": "stdout",
     "output_type": "stream",
     "text": [
      "['H', 'e', 'l', 'l', 'o', ' ', 'W', 'o', 'r', 'l', 'd', 8, 7]\n"
     ]
    }
   ],
   "source": [
    "my_first_list += [7]\n",
    "print(my_first_list)"
   ]
  },
  {
   "cell_type": "markdown",
   "metadata": {},
   "source": [
    "We can obtain an item by it's index (position). Note that Python indexing begins from 0 rather than 1:"
   ]
  },
  {
   "cell_type": "code",
   "execution_count": 71,
   "metadata": {},
   "outputs": [
    {
     "name": "stdout",
     "output_type": "stream",
     "text": [
      "l\n"
     ]
    }
   ],
   "source": [
    "print(my_first_list[3])"
   ]
  },
  {
   "cell_type": "markdown",
   "metadata": {},
   "source": [
    "Now try to print the item 'H' by it's index:"
   ]
  },
  {
   "cell_type": "code",
   "execution_count": 70,
   "metadata": {},
   "outputs": [
    {
     "name": "stdout",
     "output_type": "stream",
     "text": [
      "o\n"
     ]
    }
   ],
   "source": [
    "print(my_first_list[4])"
   ]
  },
  {
   "cell_type": "markdown",
   "metadata": {},
   "source": [
    "We can search a list for an item using the ``.index()`` list method, which returns the index of the first instance of the item:"
   ]
  },
  {
   "cell_type": "code",
   "execution_count": 32,
   "metadata": {},
   "outputs": [
    {
     "name": "stdout",
     "output_type": "stream",
     "text": [
      "8\n",
      "9\n"
     ]
    }
   ],
   "source": [
    "print(my_first_list.index(1))\n",
    "print(my_first_list.index('item'))"
   ]
  },
  {
   "cell_type": "markdown",
   "metadata": {},
   "source": [
    "Now find the index of the item ``H`` and assign it to the variable ``i``, then use ``i`` to print the item at that index:"
   ]
  },
  {
   "cell_type": "code",
   "execution_count": 34,
   "metadata": {},
   "outputs": [
    {
     "data": {
      "text/plain": [
       "'H'"
      ]
     },
     "execution_count": 34,
     "metadata": {},
     "output_type": "execute_result"
    }
   ],
   "source": [
    "i = my_first_list.index('H')\n",
    "my_first_list[i]"
   ]
  },
  {
   "cell_type": "markdown",
   "metadata": {},
   "source": [
    "## Slicing\n",
    "\n",
    "We can also get multiple items in the list through \"slicing\" using the ``:`` operator. The syntax is:\n",
    "\n",
    "- ``list_name[a:b]`` to obtain the items from index ``a`` (inclusive) to index ``b`` (not inclusive),\n",
    "- ``list_name[a:]`` to obtain the items from index ``a`` (inclusive) to the end of the list,\n",
    "- ``list_name[:b]`` to obtain the items from the start of the list to index ``b`` (not inclusive).\n",
    "\n",
    "For example:"
   ]
  },
  {
   "cell_type": "code",
   "execution_count": 35,
   "metadata": {},
   "outputs": [
    {
     "name": "stdout",
     "output_type": "stream",
     "text": [
      "['H']\n",
      "['H', 8.5, 3]\n",
      "[4, 5, 6, 'H', 8.5, 3]\n",
      "[1, 'item', True]\n"
     ]
    }
   ],
   "source": [
    "print(my_first_list[3:4])\n",
    "print(my_first_list[3:6])\n",
    "print(my_first_list[:6])\n",
    "print(my_first_list[8:])"
   ]
  },
  {
   "cell_type": "markdown",
   "metadata": {},
   "source": [
    "Also, negative indices refer to positions counting backwards from the end of the list -- i.e. ``-1`` refers to the last item, ``-2`` refers to the second-last item, etc... For example:"
   ]
  },
  {
   "cell_type": "code",
   "execution_count": 36,
   "metadata": {},
   "outputs": [
    {
     "name": "stdout",
     "output_type": "stream",
     "text": [
      "True\n",
      "[1, 'item', True]\n"
     ]
    }
   ],
   "source": [
    "print(my_first_list[-1])\n",
    "print(my_first_list[-3:])"
   ]
  },
  {
   "cell_type": "markdown",
   "metadata": {},
   "source": [
    "Note that a string in Python can be thought of as a list of characters, and can be sliced accordingly:"
   ]
  },
  {
   "cell_type": "code",
   "execution_count": 17,
   "metadata": {},
   "outputs": [
    {
     "data": {
      "text/plain": [
       "'Hel'"
      ]
     },
     "execution_count": 17,
     "metadata": {},
     "output_type": "execute_result"
    }
   ],
   "source": [
    "text = 'Hello World!'\n",
    "text[:3]"
   ]
  },
  {
   "cell_type": "markdown",
   "metadata": {},
   "source": [
    "Now use slicing on the ``text`` variable to obtain a string containing the word ``\"World\"``, without the exclamation point:"
   ]
  },
  {
   "cell_type": "code",
   "execution_count": 38,
   "metadata": {},
   "outputs": [
    {
     "data": {
      "text/plain": [
       "'World'"
      ]
     },
     "execution_count": 38,
     "metadata": {},
     "output_type": "execute_result"
    }
   ],
   "source": [
    "text[6:-1]"
   ]
  },
  {
   "cell_type": "markdown",
   "metadata": {},
   "source": [
    "Now obtain the word ``\"World\"`` again, but this time, do it using negative index values only:"
   ]
  },
  {
   "cell_type": "code",
   "execution_count": 19,
   "metadata": {},
   "outputs": [
    {
     "data": {
      "text/plain": [
       "'World'"
      ]
     },
     "execution_count": 19,
     "metadata": {},
     "output_type": "execute_result"
    }
   ],
   "source": [
    "text[-6:-1]"
   ]
  },
  {
   "cell_type": "markdown",
   "metadata": {},
   "source": [
    "Note that items in lists can also be reassigned to different values:"
   ]
  },
  {
   "cell_type": "code",
   "execution_count": 39,
   "metadata": {},
   "outputs": [
    {
     "name": "stdout",
     "output_type": "stream",
     "text": [
      "['Hello World', 5, 6, 'H', 8.5, 3, 3, 3, 1, 'item', True]\n"
     ]
    }
   ],
   "source": [
    "my_first_list[0] = 'Hello World'\n",
    "print(my_first_list)"
   ]
  },
  {
   "cell_type": "markdown",
   "metadata": {},
   "source": [
    "Multiple items can be reassigned through slicing. Try to guess what each of these cells will do before running them:"
   ]
  },
  {
   "cell_type": "code",
   "execution_count": 40,
   "metadata": {},
   "outputs": [
    {
     "name": "stdout",
     "output_type": "stream",
     "text": [
      "['H', 'e', 'l', 6, 'H', 8.5, 3, 3, 3, 1, 'item', True]\n",
      "['H', 'e', 'l', 'l', 'o', ' ', 'W', 'o', 'r', 'l', 'd', 'l', 6, 'H', 8.5, 3, 3, 3, 1, 'item', True]\n"
     ]
    }
   ],
   "source": [
    "my_first_list[0:2] = 'Hel'\n",
    "print(my_first_list)\n",
    "\n",
    "my_first_list[0:2] = 'Hello World'\n",
    "print(my_first_list)"
   ]
  },
  {
   "cell_type": "code",
   "execution_count": 41,
   "metadata": {},
   "outputs": [
    {
     "name": "stdout",
     "output_type": "stream",
     "text": [
      "['H', 'e', 'l', 'l', 'o', ' ', 'W', 'o', 'r', 'l', 'd', 8]\n"
     ]
    }
   ],
   "source": [
    "my_first_list[-10:] = [8]\n",
    "print(my_first_list)"
   ]
  },
  {
   "cell_type": "markdown",
   "metadata": {},
   "source": [
    "We can also print every *n*th item using the syntax ``<variable_name>[::<n>]``. For example:"
   ]
  },
  {
   "cell_type": "code",
   "execution_count": 42,
   "metadata": {},
   "outputs": [
    {
     "name": "stdout",
     "output_type": "stream",
     "text": [
      "['H', 'l', 'o', 'W', 'r', 'd']\n"
     ]
    }
   ],
   "source": [
    "print(my_first_list[::2])"
   ]
  },
  {
   "cell_type": "markdown",
   "metadata": {},
   "source": [
    "Lists which only contain strings can be concatenated using the ``.join()`` string method like so:"
   ]
  },
  {
   "cell_type": "code",
   "execution_count": 45,
   "metadata": {},
   "outputs": [
    {
     "name": "stdout",
     "output_type": "stream",
     "text": [
      "['Mary', 'had', 'a', 'little', 'lamb']\n",
      "Mary had a little lamb\n",
      "Mary  had  a  little  lamb\n"
     ]
    }
   ],
   "source": [
    "l = ['Mary', 'had', 'a', 'little', 'lamb']\n",
    "print(l)\n",
    "print(' '.join(l))\n",
    "print('  '.join(l))"
   ]
  },
  {
   "cell_type": "markdown",
   "metadata": {},
   "source": [
    "Also, the reverse can be done using the ``.split()`` string method, which creates a list of items based on a string. The usage is of the form: ``<string_to_be_split>.split(<pattern>)``, where the splitting is done at the specified string pattern.\n",
    "\n",
    "For example:"
   ]
  },
  {
   "cell_type": "code",
   "execution_count": 46,
   "metadata": {},
   "outputs": [
    {
     "data": {
      "text/plain": [
       "['Her', 'fleece', 'was', 'white', 'as', 'snow']"
      ]
     },
     "execution_count": 46,
     "metadata": {},
     "output_type": "execute_result"
    }
   ],
   "source": [
    "s = 'Her fleece was white as snow'\n",
    "s.split(' ')  # This splits the string wherever a single whitespace is found"
   ]
  },
  {
   "cell_type": "markdown",
   "metadata": {},
   "source": [
    "And different string patterns lead to different splitting behaviour. Again, try to guess what each of these cells will do before running them:"
   ]
  },
  {
   "cell_type": "code",
   "execution_count": 47,
   "metadata": {},
   "outputs": [
    {
     "data": {
      "text/plain": [
       "['Her fleece', 'as', 'hite as snow']"
      ]
     },
     "execution_count": 47,
     "metadata": {},
     "output_type": "execute_result"
    }
   ],
   "source": [
    "s.split(' w')"
   ]
  },
  {
   "cell_type": "code",
   "execution_count": 48,
   "metadata": {},
   "outputs": [
    {
     "data": {
      "text/plain": [
       "['Her fleece', 'white as snow']"
      ]
     },
     "execution_count": 48,
     "metadata": {},
     "output_type": "execute_result"
    }
   ],
   "source": [
    "s.split(' was ')"
   ]
  },
  {
   "cell_type": "markdown",
   "metadata": {},
   "source": [
    "## Exercise 2:\n",
    "\n",
    "In the cell below, do the following:\n",
    "\n",
    "1. Create a string variable ``my_name`` which contains your full name.\n",
    "2. Print the 4th item of the string.\n",
    "4. Print items from the second item onwards.\n",
    "5. Print the 3rd-last item.\n",
    "6. Print every character up to, but not including, the last two items.\n",
    "7. Print every third item.\n",
    "8. Print your name in reverse.\n",
    "9. Find the *index* of the first instance of each vowel that appears in your name.\n",
    "10. Use those indices to print every character from the first instance of each vowel onwards."
   ]
  },
  {
   "cell_type": "code",
   "execution_count": 12,
   "metadata": {},
   "outputs": [
    {
     "name": "stdout",
     "output_type": "stream",
     "text": [
      "e\n",
      "aneez fizza\n",
      "z\n",
      "kaneez fiz\n",
      "nzia\n",
      "azzif zeenak\n",
      "[0]: k\n",
      "[1]: a\n",
      "[2]: n\n",
      "[3]: e\n",
      "[4]: e\n",
      "[5]: z\n",
      "[6]:  \n",
      "[7]: f\n",
      "[8]: i\n",
      "[9]: z\n",
      "[10]: z\n",
      "[11]: a\n",
      "aneez fizza\n"
     ]
    }
   ],
   "source": [
    "my_name = 'kaneez fizza' # 1. create a string variable my_name which contains your full name\n",
    "print (my_name[3]) # 2. Print 4th item of the string\n",
    "print (my_name[1:]) # 3. Print items from the second item onwards\n",
    "print (my_name[-3]) # 4. Print 3rd-last item\n",
    "print (my_name[:-2]) # 5. Print every character up to, but not including, the last two items\n",
    "print (my_name[2::3]) # 6. Print every 3rd item\n",
    "print (my_name[::-1]) # 7. Print your nam in reverse\n",
    "for index, val in enumerate(my_name): # 8. Find the index of the first instance of each vowel that appears in your name\n",
    "    print('[%s]: %s' % (index, my_name[index]))\n",
    "print (my_name[my_name.index('a'):])# 9. Use those indices to print every character from the first instance of each vowel onwards"
   ]
  },
  {
   "cell_type": "markdown",
   "metadata": {},
   "source": [
    "## Tuples\n",
    "\n",
    "Tuples are very similar to lists, except that they are \"immutable\"; i.e. each item in a tuple cannot be replaced by another item. We use round brackets ``(...)`` instead of square brackets ``[...]`` to declare a tuple:"
   ]
  },
  {
   "cell_type": "code",
   "execution_count": 21,
   "metadata": {},
   "outputs": [],
   "source": [
    "my_first_tuple = (4, 5, 'Hello', 2.43)"
   ]
  },
  {
   "cell_type": "markdown",
   "metadata": {},
   "source": [
    "Now print the value of this tuple, as well as its data type:"
   ]
  },
  {
   "cell_type": "code",
   "execution_count": 25,
   "metadata": {},
   "outputs": [
    {
     "name": "stdout",
     "output_type": "stream",
     "text": [
      "Value at 0 is 4\n",
      "<class 'int'>\n",
      "Value at 1 is 5\n",
      "<class 'int'>\n",
      "Value at 2 is Hello\n",
      "<class 'str'>\n",
      "Value at 3 is 2.43\n",
      "<class 'float'>\n"
     ]
    }
   ],
   "source": [
    "for i, value in enumerate(my_first_tuple):\n",
    "    print(f'Value at {i} is {(my_first_tuple[i])}')\n",
    "    print(type(my_first_tuple[i]))"
   ]
  },
  {
   "cell_type": "markdown",
   "metadata": {},
   "source": [
    "Recall that with lists we can replace items:"
   ]
  },
  {
   "cell_type": "code",
   "execution_count": 26,
   "metadata": {},
   "outputs": [
    {
     "ename": "NameError",
     "evalue": "name 'my_first_list' is not defined",
     "output_type": "error",
     "traceback": [
      "\u001b[1;31m---------------------------------------------------------------------------\u001b[0m",
      "\u001b[1;31mNameError\u001b[0m                                 Traceback (most recent call last)",
      "\u001b[1;32m<ipython-input-26-542be24f8fb9>\u001b[0m in \u001b[0;36m<module>\u001b[1;34m\u001b[0m\n\u001b[1;32m----> 1\u001b[1;33m \u001b[0mmy_first_list\u001b[0m\u001b[1;33m[\u001b[0m\u001b[1;36m0\u001b[0m\u001b[1;33m]\u001b[0m \u001b[1;33m=\u001b[0m \u001b[1;36m307\u001b[0m\u001b[1;33m\u001b[0m\u001b[1;33m\u001b[0m\u001b[0m\n\u001b[0m\u001b[0;32m      2\u001b[0m \u001b[0mprint\u001b[0m\u001b[1;33m(\u001b[0m\u001b[0mmy_first_list\u001b[0m\u001b[1;33m)\u001b[0m\u001b[1;33m\u001b[0m\u001b[1;33m\u001b[0m\u001b[0m\n",
      "\u001b[1;31mNameError\u001b[0m: name 'my_first_list' is not defined"
     ]
    }
   ],
   "source": [
    "my_first_list[0] = 307\n",
    "print(my_first_list)"
   ]
  },
  {
   "cell_type": "markdown",
   "metadata": {},
   "source": [
    "but this is not possible for tuples (note that the following error cannot be fixed, because changing a tuple is impossible):"
   ]
  },
  {
   "cell_type": "code",
   "execution_count": 27,
   "metadata": {},
   "outputs": [
    {
     "ename": "TypeError",
     "evalue": "'tuple' object does not support item assignment",
     "output_type": "error",
     "traceback": [
      "\u001b[1;31m---------------------------------------------------------------------------\u001b[0m",
      "\u001b[1;31mTypeError\u001b[0m                                 Traceback (most recent call last)",
      "\u001b[1;32m<ipython-input-27-749af35781a5>\u001b[0m in \u001b[0;36m<module>\u001b[1;34m\u001b[0m\n\u001b[1;32m----> 1\u001b[1;33m \u001b[0mmy_first_tuple\u001b[0m\u001b[1;33m[\u001b[0m\u001b[1;36m0\u001b[0m\u001b[1;33m]\u001b[0m \u001b[1;33m=\u001b[0m \u001b[1;36m307\u001b[0m\u001b[1;33m\u001b[0m\u001b[1;33m\u001b[0m\u001b[0m\n\u001b[0m",
      "\u001b[1;31mTypeError\u001b[0m: 'tuple' object does not support item assignment"
     ]
    }
   ],
   "source": [
    "my_first_tuple[0] = 307"
   ]
  },
  {
   "cell_type": "markdown",
   "metadata": {},
   "source": [
    "Note that we can convert a tuple to a list:"
   ]
  },
  {
   "cell_type": "code",
   "execution_count": 28,
   "metadata": {},
   "outputs": [
    {
     "name": "stdout",
     "output_type": "stream",
     "text": [
      "[4, 5, 'Hello', 2.43]\n",
      "<class 'list'>\n"
     ]
    }
   ],
   "source": [
    "l = list(my_first_tuple)\n",
    "print(l)\n",
    "print(type(l))"
   ]
  },
  {
   "cell_type": "markdown",
   "metadata": {},
   "source": [
    "and vice-versa:"
   ]
  },
  {
   "cell_type": "code",
   "execution_count": 30,
   "metadata": {},
   "outputs": [
    {
     "name": "stdout",
     "output_type": "stream",
     "text": [
      "(4, 5, 'Hello', 2.43)\n",
      "<class 'tuple'>\n"
     ]
    }
   ],
   "source": [
    "# Convert the list variable \"my_first_list\" to a tuple\n",
    "t = tuple(my_first_tuple)\n",
    "\n",
    "print(t)\n",
    "print(type(t))"
   ]
  },
  {
   "cell_type": "code",
   "execution_count": null,
   "metadata": {},
   "outputs": [],
   "source": []
  }
 ],
 "metadata": {
  "kernelspec": {
   "display_name": "Python 3",
   "language": "python",
   "name": "python3"
  },
  "language_info": {
   "codemirror_mode": {
    "name": "ipython",
    "version": 3
   },
   "file_extension": ".py",
   "mimetype": "text/x-python",
   "name": "python",
   "nbconvert_exporter": "python",
   "pygments_lexer": "ipython3",
   "version": "3.8.5"
  }
 },
 "nbformat": 4,
 "nbformat_minor": 4
}
